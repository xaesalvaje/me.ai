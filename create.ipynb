{
  "nbformat": 4,
  "nbformat_minor": 0,
  "metadata": {
    "colab": {
      "provenance": [],
      "authorship_tag": "ABX9TyNtLJS2imrDuvjZhA9K1t4y"
    },
    "kernelspec": {
      "name": "python3",
      "display_name": "Python 3"
    },
    "language_info": {
      "name": "python"
    }
  },
  "cells": [
    {
      "cell_type": "code",
      "source": [
        "!pip install tensorflow numpy nltk"
      ],
      "metadata": {
        "id": "0hm4rT8_DTqY"
      },
      "execution_count": null,
      "outputs": []
    },
    {
      "cell_type": "code",
      "source": [
        "import tensorflow as tf\n",
        "from tensorflow import keras\n",
        "from tensorflow.keras.layers import Dense, LSTM, Dropout\n",
        "from tensorflow.keras.optimizers import Adam\n",
        "from tensorflow.keras.preprocessing.text import Tokenizer\n",
        "from tensorflow.keras.preprocessing.sequence import pad_sequences\n",
        "import numpy as np\n",
        "import random\n",
        "import sys\n",
        "import io\n",
        "import nltk\n",
        "nltk.download('punkt')\n"
      ],
      "metadata": {
        "id": "SdvbfBDDCnWr"
      },
      "execution_count": null,
      "outputs": []
    },
    {
      "cell_type": "code",
      "source": [
        "with open('mywords.txt', 'r', encoding='utf8') as f:\n",
        "    text = f.read()\n"
      ],
      "metadata": {
        "id": "trCYtlsOC-J4"
      },
      "execution_count": null,
      "outputs": []
    },
    {
      "cell_type": "code",
      "source": [
        "tokenizer = Tokenizer()\n",
        "tokenizer.fit_on_texts([text])\n",
        "total_words = len(tokenizer.word_index) + 1\n",
        "input_sequences = []\n",
        "for line in text.split('\\n'):\n",
        "    token_list = tokenizer.texts_to_sequences([line])[0]\n",
        "    for i in range(1, len(token_list)):\n",
        "        n_gram_sequence = token_list[:i+1]\n",
        "        input_sequences.append(n_gram_sequence)\n"
      ],
      "metadata": {
        "id": "2pGJudoVDKRs"
      },
      "execution_count": null,
      "outputs": []
    },
    {
      "cell_type": "code",
      "source": [
        "max_sequence_len = max([len(x) for x in input_sequences])\n",
        "input_sequences = np.array(pad_sequences(input_sequences, maxlen=max_sequence_len, padding='pre'))\n"
      ],
      "metadata": {
        "id": "d4YMCpBPDkCT"
      },
      "execution_count": null,
      "outputs": []
    },
    {
      "cell_type": "code",
      "source": [
        "predictors, label = input_sequences[:,:-1],input_sequences[:,-1]\n",
        "label = tf.keras.utils.to_categorical(label, num_classes=total_words)\n"
      ],
      "metadata": {
        "id": "WRTUJ96gDsEX"
      },
      "execution_count": null,
      "outputs": []
    },
    {
      "cell_type": "code",
      "source": [
        "model = tf.keras.Sequential([\n",
        "    tf.keras.layers.Embedding(total_words, 100, input_length=max_sequence_len-1),\n",
        "    tf.keras.layers.BatchNormalization(),\n",
        "    tf.keras.layers.LSTM(150, return_sequences = True),\n",
        "    tf.keras.layers.Dropout(0.2),\n",
        "    tf.keras.layers.BatchNormalization(),\n",
        "    tf.keras.layers.LSTM(100),\n",
        "    tf.keras.layers.BatchNormalization(),\n",
        "    tf.keras.layers.Dense(100, activation='relu'),\n",
        "    tf.keras.layers.Dropout(0.2),\n",
        "    tf.keras.layers.Dense(total_words, activation='softmax')\n",
        "])\n",
        "\n",
        "model.compile(loss='categorical_crossentropy', optimizer=Adam(lr=0.01), metrics=['accuracy'])\n",
        "es = tf.keras.callbacks.EarlyStopping(monitor='loss', mode='min', verbose=1, patience=3)\n"
      ],
      "metadata": {
        "id": "wIc6y7LMD43o"
      },
      "execution_count": null,
      "outputs": []
    },
    {
      "cell_type": "code",
      "source": [
        "history = model.fit(predictors, label, epochs=100, batch_size=256, callbacks=[es])\n"
      ],
      "metadata": {
        "id": "RLETHr3HD7Ea"
      },
      "execution_count": null,
      "outputs": []
    },
    {
      "cell_type": "code",
      "source": [
        "# Set the number of words to generate\n",
        "num_words = 50\n",
        "\n",
        "# Set the starting seed sequence\n",
        "seed_text = \"I\"\n",
        "\n",
        "# Loop to generate text\n",
        "for _ in range(num_words):\n",
        "    # Tokenize the seed text\n",
        "    token_list = tokenizer.texts_to_sequences([seed_text])[0]\n",
        "    # Pad the sequence\n",
        "    token_list = pad_sequences([token_list], maxlen=max_sequence_len-1, padding='pre')\n",
        "    # Predict the next word\n",
        "    predicted = model.predict(token_list, verbose=0)\n",
        "    # Get the index of the predicted word\n",
        "    next_word_index = np.argmax(predicted)\n",
        "    # Convert the index to the predicted word\n",
        "    next_word = tokenizer.index_word[next_word_index]\n",
        "    # Add the predicted word to the seed text\n",
        "    seed_text += \" \" + next_word\n",
        "\n",
        "# Print the generated text\n",
        "print(seed_text)\n"
      ],
      "metadata": {
        "id": "X8XaMNNBEL6V"
      },
      "execution_count": null,
      "outputs": []
    },
    {
      "cell_type": "code",
      "source": [
        "# Load the fine tuning data\n",
        "with open('mywords.txt', 'r', encoding='utf8') as f:\n",
        "    fine_tuning_text = f.read()\n",
        "\n",
        "# Tokenize the fine tuning data\n",
        "tokenizer.fit_on_texts([fine_tuning_text])\n",
        "total_fine_tuning_words = len(tokenizer.word_index) + 1\n",
        "fine_tuning_input_sequences = []\n",
        "for line in fine_tuning_text.split('\\n'):\n",
        "    token_list = tokenizer.texts_to_sequences([line])[0]\n",
        "    for i in range(1, len(token_list)):\n",
        "        n_gram_sequence = token_list[:i+1]\n",
        "        fine_tuning_input_sequences.append(n_gram_sequence)\n",
        "max_fine_tuning_sequence_len = max([len(x) for x in fine_tuning_input_sequences])\n",
        "fine_tuning_input_sequences = np.array(pad_sequences(fine_tuning_input_sequences, maxlen=max_fine_tuning_sequence_len, padding='pre'))\n",
        "fine_tuning_predictors, fine_tuning_label = fine_tuning_input_sequences[:,:-1],fine_tuning_input_sequences[:,-1]\n",
        "fine_tuning_label = tf.keras.utils.to_categorical(fine_tuning_label, num_classes=total_fine_tuning_words)\n",
        "\n",
        "# Build and compile the fine tuning model\n",
        "fine_tuning_model = tf.keras.Sequential([\n",
        "    tf.keras.layers.Embedding(total_words, 100, input_length=max_sequence_len-1),\n",
        "    tf.keras.layers.BatchNormalization(),\n",
        "    tf.keras.layers.LSTM(150, return_sequences = True),\n",
        "    tf.keras.layers.Dropout(0.2),\n",
        "    tf.keras.layers.BatchNormalization(),\n",
        "    tf.keras.layers.LSTM(100),\n",
        "    tf.keras.layers.BatchNormalization(),\n",
        "    tf.keras.layers.Dense(100, activation='relu'),\n",
        "    tf.keras.layers.Dropout(0.2),\n",
        "    tf.keras.layers.Dense(total_fine_tuning_words, activation='softmax')\n",
        "])\n",
        "fine_tuning_model.compile(loss='categorical_crossentropy', optimizer=Adam(lr=0.01), metrics=['accuracy'])\n",
        "\n",
        "# Train the fine tuning model\n",
        "history_fine_tuning = fine_tuning_model.fit(fine_tuning_predictors, fine_tuning_label, epochs=100, batch_size=256, callbacks=[es])\n",
        "\n",
        "# Combine the fine tuning layer with the original model\n",
        "model.layers[-1].set_weights(fine_tuning_model.layers[-1].get_weights())\n",
        "model.compile(loss='categorical_crossentropy', optimizer=Adam(lr=0.01), metrics=['accuracy'])\n"
      ],
      "metadata": {
        "id": "OUh16VwcEQx0"
      },
      "execution_count": null,
      "outputs": []
    }
  ]
}